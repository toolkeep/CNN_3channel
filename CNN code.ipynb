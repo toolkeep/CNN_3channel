{
 "cells": [
  {
   "cell_type": "code",
   "execution_count": 12,
   "id": "a1304702",
   "metadata": {},
   "outputs": [],
   "source": [
    "import os\n",
    "import tensorflow as tf\n",
    "import keras\n",
    "import pandas as pd\n",
    "import numpy as np\n",
    "import matplotlib.pyplot as plt\n",
    "from scipy import stats\n",
    "from keras.models import Sequential\n",
    "from keras.layers import Dense, Conv2D, MaxPooling2D, Flatten, Dropout\n",
    "from keras import optimizers\n",
    "from keras.models import load_model\n",
    "from sklearn import metrics\n",
    "\n",
    "np.random.seed(611)"
   ]
  },
  {
   "cell_type": "code",
   "execution_count": 13,
   "id": "43ecc7d9",
   "metadata": {},
   "outputs": [],
   "source": [
    "# defining a window function for segmentation purposes\n",
    "def windows(data, size):\n",
    "    start = 0\n",
    "    while start < data.count():\n",
    "        yield int(start), int(start + size)\n",
    "        start += (size/2)\n",
    "\n",
    "####################### building the model #######################\n",
    "def cnnModel():\n",
    "    model = Sequential()\n",
    "    model.add(Conv2D(128, (2,2), input_shape=(90,3,3), activation='relu'))\n",
    "    model.add(MaxPooling2D(pool_size=(2,2), padding='valid'))\n",
    "    model.add(Dropout(0.3))\n",
    "    model.add(Flatten())\n",
    "    model.add(Dense(16, activation='relu'))\n",
    "    model.add(Dense(16, activation='relu'))\n",
    "    model.add(Dense(5, activation='softmax'))\n",
    "    adam = optimizers.Adam(lr=0.001, decay=1e-6)\n",
    "    model.compile(loss='categorical_crossentropy', optimizer=adam, metrics=['accuracy'])\n",
    "    return model"
   ]
  },
  {
   "cell_type": "code",
   "execution_count": 14,
   "id": "929cef22",
   "metadata": {},
   "outputs": [
    {
     "name": "stdout",
     "output_type": "stream",
     "text": [
      "conv2d_4\n",
      "max_pooling2d_4\n",
      "dropout_4\n",
      "flatten_4\n",
      "dense_10\n",
      "dense_11\n",
      "dense_12\n",
      "Train on 9015 samples, validate on 3006 samples\n",
      "Epoch 1/5\n",
      " - 2s - loss: 0.4918 - accuracy: 0.8180 - val_loss: 0.0964 - val_accuracy: 0.9780\n",
      "Epoch 2/5\n",
      " - 1s - loss: 0.1003 - accuracy: 0.9717 - val_loss: 0.0821 - val_accuracy: 0.9860\n",
      "Epoch 3/5\n",
      " - 1s - loss: 0.0650 - accuracy: 0.9799 - val_loss: 0.0854 - val_accuracy: 0.9784\n",
      "Epoch 4/5\n",
      " - 1s - loss: 0.0519 - accuracy: 0.9831 - val_loss: 0.1045 - val_accuracy: 0.9737\n",
      "Epoch 5/5\n",
      " - 1s - loss: 0.0436 - accuracy: 0.9859 - val_loss: 0.0761 - val_accuracy: 0.9820\n",
      "Accuracy: 98.54%\n"
     ]
    }
   ],
   "source": [
    "####################### loading dataset #######################\n",
    "filePath = r'G:\\item\\cnn_fig\\terrain\\test_L_H.csv'\n",
    "columnNames = ['user_id', 'activity', 'timestamp', 'x-axis', 'y-axis', 'z-axis', 'low-terrain', 'high-terrain']\n",
    "data = pd.read_csv(filePath, header=None, names=columnNames, na_values=';')\n",
    "\n",
    "####################### data processing #######################\n",
    "object = windows(data['timestamp'],90)\n",
    "AllData = np.empty((0,90, 3, 3))\n",
    "labels= np.empty((0))\n",
    "\n",
    "for i in object:\n",
    "    acc_x = data['x-axis'][i[0]:i[1]]\n",
    "    acc_y = data['y-axis'][i[0]:i[1]]\n",
    "    acc_z = data['z-axis'][i[0]:i[1]]\n",
    "    terrain_l = data['low-terrain'][i[0]:i[1]]\n",
    "    terrain_h = data['high-terrain'][i[0]:i[1]]\n",
    "    \n",
    "    if(len(data['timestamp'][i[0]:i[1]])==90):\n",
    "        channel1 = np.vstack([np.dstack([acc_x, acc_y, acc_z])])\n",
    "        channel2 = np.vstack([np.dstack([terrain_l]*3)])\n",
    "        channel3 = np.vstack([np.dstack([terrain_h]*3)])\n",
    "\n",
    "        AllChannel = np.stack((channel1,channel2,channel3), axis=-1)   \n",
    "        AllChannel = np.reshape(AllChannel,(1,90,3,3))\n",
    "        AllData = np.vstack([AllData,AllChannel])\n",
    "  \n",
    "        labels = np.append(labels, stats.mode(data['activity'][i[0]:i[1]])[0][0])\n",
    "\n",
    "labels = np.asarray(pd.get_dummies(labels), dtype=np.int8) \n",
    "trainSplit = np.random.rand(len(AllData)) < 0.75 \n",
    "trainX = AllData[trainSplit]\n",
    "testX = AllData[~trainSplit]\n",
    "trainX = np.nan_to_num(trainX)\n",
    "testX = np.nan_to_num(testX)\n",
    "trainY = labels[trainSplit]\n",
    "testY = labels[~trainSplit]\n",
    "\n",
    "####################### model trainning #######################\n",
    "model = cnnModel()\n",
    "for layer in model.layers:\n",
    "    print(layer.name)\n",
    "model.fit(trainX, trainY, validation_split=0.25, epochs=5, batch_size=64, verbose=2)\n",
    "score = model.evaluate(testX, testY, verbose=2)\n",
    "print('Accuracy: %.2f%%' %(score[1]*100))\n",
    "model.save('CnnModel_terrain.h5')\n",
    "model.save_weights('Cnn_Weigths.h5')\n",
    "np.save('Cnn_output_3d.npy', testY)\n",
    "np.save('Cnn_input_3d.npy', testX)"
   ]
  },
  {
   "cell_type": "code",
   "execution_count": null,
   "id": "0400e2bc",
   "metadata": {},
   "outputs": [],
   "source": []
  }
 ],
 "metadata": {
  "kernelspec": {
   "display_name": "Python 3 (ipykernel)",
   "language": "python",
   "name": "python3"
  },
  "language_info": {
   "codemirror_mode": {
    "name": "ipython",
    "version": 3
   },
   "file_extension": ".py",
   "mimetype": "text/x-python",
   "name": "python",
   "nbconvert_exporter": "python",
   "pygments_lexer": "ipython3",
   "version": "3.7.13"
  }
 },
 "nbformat": 4,
 "nbformat_minor": 5
}
